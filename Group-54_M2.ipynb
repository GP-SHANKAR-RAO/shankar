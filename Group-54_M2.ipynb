{
 "cells": [
  {
   "cell_type": "markdown",
   "id": "7b746f86",
   "metadata": {},
   "source": [
    "M2: Process and Tooling\n",
    "Objective: Gain hands-on experience with popular MLOps tools and\n",
    "understand the processes they support.\n",
    "Tasks:\n",
    "1. Experiment Tracking:\n",
    "• Use MLflow to track experiments for a machine learning project.\n",
    "• Record metrics, parameters, and results of at least three different model\n",
    "training runs.\n",
    "2. Data Versioning:\n",
    "• Use DVC (Data Version Control) to version control a dataset used in your\n",
    "project.\n",
    "• Show how to revert to a previous version of the dataset.\n",
    "Deliverables:\n",
    "• MLflow experiment logs with different runs and their results.\n",
    "• A DVC repository showing different versions of the dataset."
   ]
  },
  {
   "cell_type": "code",
   "execution_count": 1,
   "id": "b35a65b1",
   "metadata": {
    "scrolled": false
   },
   "outputs": [
    {
     "name": "stdout",
     "output_type": "stream",
     "text": [
      "Collecting mlflow\n",
      "  Obtaining dependency information for mlflow from https://files.pythonhosted.org/packages/76/d9/6ec0b635fcd0eb46d5a671bb5f350defb656a3b925bd780786f9fac0da12/mlflow-2.15.0-py3-none-any.whl.metadata\n",
      "  Downloading mlflow-2.15.0-py3-none-any.whl.metadata (29 kB)\n",
      "Collecting mlflow-skinny==2.15.0 (from mlflow)\n",
      "  Obtaining dependency information for mlflow-skinny==2.15.0 from https://files.pythonhosted.org/packages/a2/0e/4dab2a4a1eba4f05de80cf7f21e5ac166dc4ee338aaf6878d1b3c570c0e4/mlflow_skinny-2.15.0-py3-none-any.whl.metadata\n",
      "  Downloading mlflow_skinny-2.15.0-py3-none-any.whl.metadata (30 kB)\n",
      "Requirement already satisfied: Flask<4 in c:\\users\\user\\anaconda3\\lib\\site-packages (from mlflow) (2.2.2)\n",
      "Collecting alembic!=1.10.0,<2 (from mlflow)\n",
      "  Obtaining dependency information for alembic!=1.10.0,<2 from https://files.pythonhosted.org/packages/df/ed/c884465c33c25451e4a5cd4acad154c29e5341e3214e220e7f3478aa4b0d/alembic-1.13.2-py3-none-any.whl.metadata\n",
      "  Downloading alembic-1.13.2-py3-none-any.whl.metadata (7.4 kB)\n",
      "Collecting docker<8,>=4.0.0 (from mlflow)\n",
      "  Obtaining dependency information for docker<8,>=4.0.0 from https://files.pythonhosted.org/packages/e3/26/57c6fb270950d476074c087527a558ccb6f4436657314bfb6cdf484114c4/docker-7.1.0-py3-none-any.whl.metadata\n",
      "  Downloading docker-7.1.0-py3-none-any.whl.metadata (3.8 kB)\n",
      "Collecting graphene<4 (from mlflow)\n",
      "  Obtaining dependency information for graphene<4 from https://files.pythonhosted.org/packages/24/70/96f6027cdfc9bb89fc07627b615cb43fb1c443c93498412beaeaf157e9f1/graphene-3.3-py2.py3-none-any.whl.metadata\n",
      "  Downloading graphene-3.3-py2.py3-none-any.whl.metadata (7.7 kB)\n",
      "Requirement already satisfied: markdown<4,>=3.3 in c:\\users\\user\\anaconda3\\lib\\site-packages (from mlflow) (3.4.1)\n",
      "Requirement already satisfied: matplotlib<4 in c:\\users\\user\\anaconda3\\lib\\site-packages (from mlflow) (3.7.1)\n",
      "Requirement already satisfied: numpy<2 in c:\\users\\user\\anaconda3\\lib\\site-packages (from mlflow) (1.24.3)\n",
      "Requirement already satisfied: pandas<3 in c:\\users\\user\\anaconda3\\lib\\site-packages (from mlflow) (1.5.3)\n",
      "Requirement already satisfied: pyarrow<16,>=4.0.0 in c:\\users\\user\\anaconda3\\lib\\site-packages (from mlflow) (15.0.0)\n",
      "Collecting querystring-parser<2 (from mlflow)\n",
      "  Obtaining dependency information for querystring-parser<2 from https://files.pythonhosted.org/packages/88/6b/572b2590fd55114118bf08bde63c0a421dcc82d593700f3e2ad89908a8a9/querystring_parser-1.2.4-py2.py3-none-any.whl.metadata\n",
      "  Downloading querystring_parser-1.2.4-py2.py3-none-any.whl.metadata (559 bytes)\n",
      "Requirement already satisfied: scikit-learn<2 in c:\\users\\user\\anaconda3\\lib\\site-packages (from mlflow) (1.3.0)\n",
      "Requirement already satisfied: scipy<2 in c:\\users\\user\\anaconda3\\lib\\site-packages (from mlflow) (1.10.1)\n",
      "Requirement already satisfied: sqlalchemy<3,>=1.4.0 in c:\\users\\user\\anaconda3\\lib\\site-packages (from mlflow) (1.4.39)\n",
      "Requirement already satisfied: Jinja2<4,>=3.0 in c:\\users\\user\\anaconda3\\lib\\site-packages (from mlflow) (3.1.2)\n",
      "Collecting waitress<4 (from mlflow)\n",
      "  Obtaining dependency information for waitress<4 from https://files.pythonhosted.org/packages/5b/a9/485c953a1ac4cb98c28e41fd2c7184072df36bbf99734a51d44d04176878/waitress-3.0.0-py3-none-any.whl.metadata\n",
      "  Downloading waitress-3.0.0-py3-none-any.whl.metadata (4.2 kB)\n",
      "Requirement already satisfied: cachetools<6,>=5.0.0 in c:\\users\\user\\anaconda3\\lib\\site-packages (from mlflow-skinny==2.15.0->mlflow) (5.3.3)\n",
      "Requirement already satisfied: click<9,>=7.0 in c:\\users\\user\\anaconda3\\lib\\site-packages (from mlflow-skinny==2.15.0->mlflow) (8.0.4)\n",
      "Requirement already satisfied: cloudpickle<4 in c:\\users\\user\\anaconda3\\lib\\site-packages (from mlflow-skinny==2.15.0->mlflow) (2.2.1)\n",
      "Collecting databricks-sdk<1,>=0.20.0 (from mlflow-skinny==2.15.0->mlflow)\n",
      "  Obtaining dependency information for databricks-sdk<1,>=0.20.0 from https://files.pythonhosted.org/packages/8e/69/1bdc016ebdec92770728f2e233ce09e233a04bd3352ec58c4f08619c1acf/databricks_sdk-0.29.0-py3-none-any.whl.metadata\n",
      "  Downloading databricks_sdk-0.29.0-py3-none-any.whl.metadata (35 kB)\n",
      "Requirement already satisfied: entrypoints<1 in c:\\users\\user\\anaconda3\\lib\\site-packages (from mlflow-skinny==2.15.0->mlflow) (0.4)\n",
      "Collecting gitpython<4,>=3.1.9 (from mlflow-skinny==2.15.0->mlflow)\n",
      "  Obtaining dependency information for gitpython<4,>=3.1.9 from https://files.pythonhosted.org/packages/e9/bd/cc3a402a6439c15c3d4294333e13042b915bbeab54edc457c723931fed3f/GitPython-3.1.43-py3-none-any.whl.metadata\n",
      "  Downloading GitPython-3.1.43-py3-none-any.whl.metadata (13 kB)\n",
      "Requirement already satisfied: importlib-metadata!=4.7.0,<8,>=3.7.0 in c:\\users\\user\\anaconda3\\lib\\site-packages (from mlflow-skinny==2.15.0->mlflow) (6.0.0)\n",
      "Requirement already satisfied: opentelemetry-api<3,>=1.9.0 in c:\\users\\user\\anaconda3\\lib\\site-packages (from mlflow-skinny==2.15.0->mlflow) (1.25.0)\n",
      "Requirement already satisfied: opentelemetry-sdk<3,>=1.9.0 in c:\\users\\user\\anaconda3\\lib\\site-packages (from mlflow-skinny==2.15.0->mlflow) (1.25.0)\n",
      "Requirement already satisfied: packaging<25 in c:\\users\\user\\anaconda3\\lib\\site-packages (from mlflow-skinny==2.15.0->mlflow) (23.0)\n",
      "Requirement already satisfied: protobuf<6,>=3.12.0 in c:\\users\\user\\anaconda3\\lib\\site-packages (from mlflow-skinny==2.15.0->mlflow) (4.25.3)\n",
      "Requirement already satisfied: pytz<2025 in c:\\users\\user\\anaconda3\\lib\\site-packages (from mlflow-skinny==2.15.0->mlflow) (2022.7)\n",
      "Requirement already satisfied: pyyaml<7,>=5.1 in c:\\users\\user\\anaconda3\\lib\\site-packages (from mlflow-skinny==2.15.0->mlflow) (6.0)\n",
      "Requirement already satisfied: requests<3,>=2.17.3 in c:\\users\\user\\anaconda3\\lib\\site-packages (from mlflow-skinny==2.15.0->mlflow) (2.31.0)\n",
      "Collecting sqlparse<1,>=0.4.0 (from mlflow-skinny==2.15.0->mlflow)\n",
      "  Obtaining dependency information for sqlparse<1,>=0.4.0 from https://files.pythonhosted.org/packages/5d/a5/b2860373aa8de1e626b2bdfdd6df4355f0565b47e51f7d0c54fe70faf8fe/sqlparse-0.5.1-py3-none-any.whl.metadata\n",
      "  Downloading sqlparse-0.5.1-py3-none-any.whl.metadata (3.9 kB)\n",
      "Collecting Mako (from alembic!=1.10.0,<2->mlflow)\n",
      "  Obtaining dependency information for Mako from https://files.pythonhosted.org/packages/03/62/70f5a0c2dd208f9f3f2f9afd103aec42ee4d9ad2401d78342f75e9b8da36/Mako-1.3.5-py3-none-any.whl.metadata\n",
      "  Downloading Mako-1.3.5-py3-none-any.whl.metadata (2.9 kB)\n",
      "Requirement already satisfied: typing-extensions>=4 in c:\\users\\user\\anaconda3\\lib\\site-packages (from alembic!=1.10.0,<2->mlflow) (4.12.2)\n",
      "Requirement already satisfied: pywin32>=304 in c:\\users\\user\\anaconda3\\lib\\site-packages (from docker<8,>=4.0.0->mlflow) (305.1)\n",
      "Requirement already satisfied: urllib3>=1.26.0 in c:\\users\\user\\anaconda3\\lib\\site-packages (from docker<8,>=4.0.0->mlflow) (1.26.16)\n",
      "Requirement already satisfied: Werkzeug>=2.2.2 in c:\\users\\user\\anaconda3\\lib\\site-packages (from Flask<4->mlflow) (2.2.3)\n",
      "Requirement already satisfied: itsdangerous>=2.0 in c:\\users\\user\\anaconda3\\lib\\site-packages (from Flask<4->mlflow) (2.0.1)\n",
      "Collecting graphql-core<3.3,>=3.1 (from graphene<4->mlflow)\n",
      "  Obtaining dependency information for graphql-core<3.3,>=3.1 from https://files.pythonhosted.org/packages/f8/39/e5143e7ec70939d2076c1165ae9d4a3815597019c4d797b7f959cf778600/graphql_core-3.2.3-py3-none-any.whl.metadata\n",
      "  Downloading graphql_core-3.2.3-py3-none-any.whl.metadata (10 kB)\n",
      "Collecting graphql-relay<3.3,>=3.1 (from graphene<4->mlflow)\n",
      "  Obtaining dependency information for graphql-relay<3.3,>=3.1 from https://files.pythonhosted.org/packages/74/16/a4cf06adbc711bd364a73ce043b0b08d8fa5aae3df11b6ee4248bcdad2e0/graphql_relay-3.2.0-py3-none-any.whl.metadata\n",
      "  Downloading graphql_relay-3.2.0-py3-none-any.whl.metadata (12 kB)\n",
      "Collecting aniso8601<10,>=8 (from graphene<4->mlflow)\n",
      "  Obtaining dependency information for aniso8601<10,>=8 from https://files.pythonhosted.org/packages/e3/04/e97c12dc034791d7b504860acfcdd2963fa21ae61eaca1c9d31245f812c3/aniso8601-9.0.1-py2.py3-none-any.whl.metadata\n",
      "  Downloading aniso8601-9.0.1-py2.py3-none-any.whl.metadata (23 kB)\n",
      "Requirement already satisfied: MarkupSafe>=2.0 in c:\\users\\user\\anaconda3\\lib\\site-packages (from Jinja2<4,>=3.0->mlflow) (2.1.1)\n",
      "Requirement already satisfied: contourpy>=1.0.1 in c:\\users\\user\\anaconda3\\lib\\site-packages (from matplotlib<4->mlflow) (1.0.5)\n",
      "Requirement already satisfied: cycler>=0.10 in c:\\users\\user\\anaconda3\\lib\\site-packages (from matplotlib<4->mlflow) (0.11.0)\n",
      "Requirement already satisfied: fonttools>=4.22.0 in c:\\users\\user\\anaconda3\\lib\\site-packages (from matplotlib<4->mlflow) (4.25.0)\n",
      "Requirement already satisfied: kiwisolver>=1.0.1 in c:\\users\\user\\anaconda3\\lib\\site-packages (from matplotlib<4->mlflow) (1.4.4)\n",
      "Requirement already satisfied: pillow>=6.2.0 in c:\\users\\user\\anaconda3\\lib\\site-packages (from matplotlib<4->mlflow) (9.4.0)\n",
      "Requirement already satisfied: pyparsing>=2.3.1 in c:\\users\\user\\anaconda3\\lib\\site-packages (from matplotlib<4->mlflow) (3.0.9)\n",
      "Requirement already satisfied: python-dateutil>=2.7 in c:\\users\\user\\anaconda3\\lib\\site-packages (from matplotlib<4->mlflow) (2.8.2)\n",
      "Requirement already satisfied: six in c:\\users\\user\\anaconda3\\lib\\site-packages (from querystring-parser<2->mlflow) (1.16.0)\n",
      "Requirement already satisfied: joblib>=1.1.1 in c:\\users\\user\\anaconda3\\lib\\site-packages (from scikit-learn<2->mlflow) (1.2.0)\n",
      "Requirement already satisfied: threadpoolctl>=2.0.0 in c:\\users\\user\\anaconda3\\lib\\site-packages (from scikit-learn<2->mlflow) (2.2.0)\n",
      "Requirement already satisfied: greenlet!=0.4.17 in c:\\users\\user\\anaconda3\\lib\\site-packages (from sqlalchemy<3,>=1.4.0->mlflow) (2.0.1)\n",
      "Requirement already satisfied: colorama in c:\\users\\user\\anaconda3\\lib\\site-packages (from click<9,>=7.0->mlflow-skinny==2.15.0->mlflow) (0.4.6)\n",
      "Requirement already satisfied: google-auth~=2.0 in c:\\users\\user\\anaconda3\\lib\\site-packages (from databricks-sdk<1,>=0.20.0->mlflow-skinny==2.15.0->mlflow) (2.28.1)\n",
      "Collecting gitdb<5,>=4.0.1 (from gitpython<4,>=3.1.9->mlflow-skinny==2.15.0->mlflow)\n",
      "  Obtaining dependency information for gitdb<5,>=4.0.1 from https://files.pythonhosted.org/packages/fd/5b/8f0c4a5bb9fd491c277c21eff7ccae71b47d43c4446c9d0c6cff2fe8c2c4/gitdb-4.0.11-py3-none-any.whl.metadata\n",
      "  Downloading gitdb-4.0.11-py3-none-any.whl.metadata (1.2 kB)\n",
      "Requirement already satisfied: zipp>=0.5 in c:\\users\\user\\anaconda3\\lib\\site-packages (from importlib-metadata!=4.7.0,<8,>=3.7.0->mlflow-skinny==2.15.0->mlflow) (3.11.0)\n",
      "Requirement already satisfied: deprecated>=1.2.6 in c:\\users\\user\\anaconda3\\lib\\site-packages (from opentelemetry-api<3,>=1.9.0->mlflow-skinny==2.15.0->mlflow) (1.2.14)\n",
      "Requirement already satisfied: opentelemetry-semantic-conventions==0.46b0 in c:\\users\\user\\anaconda3\\lib\\site-packages (from opentelemetry-sdk<3,>=1.9.0->mlflow-skinny==2.15.0->mlflow) (0.46b0)\n",
      "Requirement already satisfied: charset-normalizer<4,>=2 in c:\\users\\user\\anaconda3\\lib\\site-packages (from requests<3,>=2.17.3->mlflow-skinny==2.15.0->mlflow) (2.0.4)\n",
      "Requirement already satisfied: idna<4,>=2.5 in c:\\users\\user\\anaconda3\\lib\\site-packages (from requests<3,>=2.17.3->mlflow-skinny==2.15.0->mlflow) (3.4)\n",
      "Requirement already satisfied: certifi>=2017.4.17 in c:\\users\\user\\anaconda3\\lib\\site-packages (from requests<3,>=2.17.3->mlflow-skinny==2.15.0->mlflow) (2023.7.22)\n",
      "Requirement already satisfied: wrapt<2,>=1.10 in c:\\users\\user\\anaconda3\\lib\\site-packages (from deprecated>=1.2.6->opentelemetry-api<3,>=1.9.0->mlflow-skinny==2.15.0->mlflow) (1.14.1)\n",
      "Collecting smmap<6,>=3.0.1 (from gitdb<5,>=4.0.1->gitpython<4,>=3.1.9->mlflow-skinny==2.15.0->mlflow)\n",
      "  Obtaining dependency information for smmap<6,>=3.0.1 from https://files.pythonhosted.org/packages/a7/a5/10f97f73544edcdef54409f1d839f6049a0d79df68adbc1ceb24d1aaca42/smmap-5.0.1-py3-none-any.whl.metadata\n",
      "  Downloading smmap-5.0.1-py3-none-any.whl.metadata (4.3 kB)\n",
      "Requirement already satisfied: pyasn1-modules>=0.2.1 in c:\\users\\user\\anaconda3\\lib\\site-packages (from google-auth~=2.0->databricks-sdk<1,>=0.20.0->mlflow-skinny==2.15.0->mlflow) (0.2.8)\n",
      "Requirement already satisfied: rsa<5,>=3.1.4 in c:\\users\\user\\anaconda3\\lib\\site-packages (from google-auth~=2.0->databricks-sdk<1,>=0.20.0->mlflow-skinny==2.15.0->mlflow) (4.9)\n",
      "Requirement already satisfied: pyasn1<0.5.0,>=0.4.6 in c:\\users\\user\\anaconda3\\lib\\site-packages (from pyasn1-modules>=0.2.1->google-auth~=2.0->databricks-sdk<1,>=0.20.0->mlflow-skinny==2.15.0->mlflow) (0.4.8)\n",
      "Downloading mlflow-2.15.0-py3-none-any.whl (26.3 MB)\n",
      "   ---------------------------------------- 0.0/26.3 MB ? eta -:--:--\n",
      "   ---------------------------------------- 0.2/26.3 MB 5.0 MB/s eta 0:00:06\n",
      "   - -------------------------------------- 0.9/26.3 MB 11.7 MB/s eta 0:00:03\n",
      "   --- ------------------------------------ 2.1/26.3 MB 19.1 MB/s eta 0:00:02\n",
      "   --- ------------------------------------ 2.1/26.3 MB 19.1 MB/s eta 0:00:02\n",
      "   ------ --------------------------------- 4.2/26.3 MB 19.3 MB/s eta 0:00:02\n",
      "   --------- ------------------------------ 6.2/26.3 MB 23.4 MB/s eta 0:00:01\n",
      "   ----------- ---------------------------- 7.4/26.3 MB 23.5 MB/s eta 0:00:01\n",
      "   -------------- ------------------------- 9.3/26.3 MB 24.8 MB/s eta 0:00:01\n",
      "   ----------------- ---------------------- 11.3/26.3 MB 31.2 MB/s eta 0:00:01\n",
      "   ------------------- -------------------- 13.0/26.3 MB 38.6 MB/s eta 0:00:01\n",
      "   ----------------------- ---------------- 15.5/26.3 MB 38.5 MB/s eta 0:00:01\n",
      "   --------------------------- ------------ 17.9/26.3 MB 46.7 MB/s eta 0:00:01\n",
      "   ------------------------------ --------- 20.4/26.3 MB 50.4 MB/s eta 0:00:01\n",
      "   --------------------------------- ------ 22.2/26.3 MB 46.7 MB/s eta 0:00:01\n",
      "   ----------------------------------- ---- 23.3/26.3 MB 43.5 MB/s eta 0:00:01\n",
      "   ------------------------------------- -- 24.5/26.3 MB 43.5 MB/s eta 0:00:01\n",
      "   ---------------------------------------  26.3/26.3 MB 43.7 MB/s eta 0:00:01\n",
      "   ---------------------------------------  26.3/26.3 MB 43.7 MB/s eta 0:00:01\n",
      "   ---------------------------------------- 26.3/26.3 MB 34.4 MB/s eta 0:00:00\n",
      "Downloading mlflow_skinny-2.15.0-py3-none-any.whl (5.5 MB)\n",
      "   ---------------------------------------- 0.0/5.5 MB ? eta -:--:--\n",
      "   -------------- ------------------------- 2.0/5.5 MB 62.8 MB/s eta 0:00:01\n",
      "   ------------------------------- -------- 4.4/5.5 MB 56.1 MB/s eta 0:00:01\n",
      "   ---------------------------------------- 5.5/5.5 MB 43.9 MB/s eta 0:00:00\n",
      "Downloading alembic-1.13.2-py3-none-any.whl (232 kB)\n",
      "   ---------------------------------------- 0.0/233.0 kB ? eta -:--:--\n",
      "   --------------------------------------- 233.0/233.0 kB 13.9 MB/s eta 0:00:00\n",
      "Downloading docker-7.1.0-py3-none-any.whl (147 kB)\n",
      "   ---------------------------------------- 0.0/147.8 kB ? eta -:--:--\n",
      "   ---------------------------------------- 147.8/147.8 kB 8.6 MB/s eta 0:00:00\n",
      "Downloading graphene-3.3-py2.py3-none-any.whl (128 kB)\n",
      "   ---------------------------------------- 0.0/128.2 kB ? eta -:--:--\n",
      "   ---------------------------------------- 128.2/128.2 kB ? eta 0:00:00\n",
      "Downloading querystring_parser-1.2.4-py2.py3-none-any.whl (7.9 kB)\n",
      "Downloading waitress-3.0.0-py3-none-any.whl (56 kB)\n",
      "   ---------------------------------------- 0.0/56.7 kB ? eta -:--:--\n",
      "   ---------------------------------------- 56.7/56.7 kB 3.1 MB/s eta 0:00:00\n",
      "Downloading aniso8601-9.0.1-py2.py3-none-any.whl (52 kB)\n",
      "   ---------------------------------------- 0.0/52.8 kB ? eta -:--:--\n",
      "   ---------------------------------------- 52.8/52.8 kB ? eta 0:00:00\n",
      "Downloading databricks_sdk-0.29.0-py3-none-any.whl (505 kB)\n",
      "   ---------------------------------------- 0.0/505.6 kB ? eta -:--:--\n",
      "   --------------------------------------- 505.6/505.6 kB 33.0 MB/s eta 0:00:00\n",
      "Downloading GitPython-3.1.43-py3-none-any.whl (207 kB)\n",
      "   ---------------------------------------- 0.0/207.3 kB ? eta -:--:--\n",
      "   --------------------------------------- 207.3/207.3 kB 13.1 MB/s eta 0:00:00\n",
      "Downloading graphql_core-3.2.3-py3-none-any.whl (202 kB)\n",
      "   ---------------------------------------- 0.0/202.9 kB ? eta -:--:--\n",
      "   --------------------------------------- 202.9/202.9 kB 12.0 MB/s eta 0:00:00\n",
      "Downloading graphql_relay-3.2.0-py3-none-any.whl (16 kB)\n",
      "Downloading sqlparse-0.5.1-py3-none-any.whl (44 kB)\n",
      "   ---------------------------------------- 0.0/44.2 kB ? eta -:--:--\n",
      "   ---------------------------------------- 44.2/44.2 kB ? eta 0:00:00\n",
      "Downloading Mako-1.3.5-py3-none-any.whl (78 kB)\n",
      "   ---------------------------------------- 0.0/78.6 kB ? eta -:--:--\n",
      "   ---------------------------------------- 78.6/78.6 kB ? eta 0:00:00\n",
      "Downloading gitdb-4.0.11-py3-none-any.whl (62 kB)\n",
      "   ---------------------------------------- 0.0/62.7 kB ? eta -:--:--\n",
      "   ---------------------------------------- 62.7/62.7 kB 3.5 MB/s eta 0:00:00\n",
      "Downloading smmap-5.0.1-py3-none-any.whl (24 kB)\n",
      "Installing collected packages: aniso8601, waitress, sqlparse, smmap, querystring-parser, Mako, graphql-core, graphql-relay, gitdb, docker, alembic, graphene, gitpython, databricks-sdk, mlflow-skinny, mlflow\n",
      "Successfully installed Mako-1.3.5 alembic-1.13.2 aniso8601-9.0.1 databricks-sdk-0.29.0 docker-7.1.0 gitdb-4.0.11 gitpython-3.1.43 graphene-3.3 graphql-core-3.2.3 graphql-relay-3.2.0 mlflow-2.15.0 mlflow-skinny-2.15.0 querystring-parser-1.2.4 smmap-5.0.1 sqlparse-0.5.1 waitress-3.0.0\n"
     ]
    }
   ],
   "source": [
    "!pip install mlflow #Step 1: Install MLflow\n"
   ]
  },
  {
   "cell_type": "code",
   "execution_count": 4,
   "id": "d6ca210e",
   "metadata": {},
   "outputs": [],
   "source": [
    "import mlflow   #Step 2: Set Up MLflow\n",
    "import mlflow.sklearn\n",
    "\n",
    "# Set the MLflow tracking URI\n",
    "mlflow.set_tracking_uri(\"/mlruns\") \n"
   ]
  },
  {
   "cell_type": "code",
   "execution_count": 5,
   "id": "4e24542a",
   "metadata": {},
   "outputs": [
    {
     "data": {
      "text/plain": [
       "<Experiment: artifact_location='file:///C:/path/to/mlruns/114706818427449650', creation_time=1722866190330, experiment_id='114706818427449650', last_update_time=1722866190330, lifecycle_stage='active', name='Iris_Classification_Experiment', tags={}>"
      ]
     },
     "execution_count": 5,
     "metadata": {},
     "output_type": "execute_result"
    }
   ],
   "source": [
    "experiment_name = \"Iris_Classification_Experiment\" #Step 3: Define Your Experiment\n",
    "mlflow.set_experiment(experiment_name)\n"
   ]
  },
  {
   "cell_type": "code",
   "execution_count": 6,
   "id": "3cb67112",
   "metadata": {},
   "outputs": [
    {
     "name": "stderr",
     "output_type": "stream",
     "text": [
      "C:\\Users\\user\\anaconda3\\Lib\\site-packages\\_distutils_hack\\__init__.py:33: UserWarning: Setuptools is replacing distutils.\n",
      "  warnings.warn(\"Setuptools is replacing distutils.\")\n",
      "2024/08/05 22:44:48 WARNING mlflow.models.model: Input example should be provided to infer model signature if the model signature is not provided when logging the model.\n"
     ]
    },
    {
     "name": "stdout",
     "output_type": "stream",
     "text": [
      "Run ID: 5a84ed2ed2f048c0a1357971a3f7ea3e\n"
     ]
    }
   ],
   "source": [
    "import pandas as pd\n",
    "from sklearn.ensemble import RandomForestClassifier\n",
    "from sklearn.metrics import accuracy_score\n",
    "from sklearn.model_selection import train_test_split\n",
    "from sklearn.datasets import load_iris\n",
    "\n",
    "# Load Iris dataset\n",
    "iris = load_iris()\n",
    "X = pd.DataFrame(iris.data, columns=iris.feature_names)\n",
    "y = pd.Series(iris.target)\n",
    "\n",
    "# Split data\n",
    "X_train, X_test, y_train, y_test = train_test_split(X, y, test_size=0.2, random_state=42)\n",
    "\n",
    "# Define and train model\n",
    "with mlflow.start_run():\n",
    "    rf = RandomForestClassifier(n_estimators=100, max_depth=3, random_state=42)\n",
    "    rf.fit(X_train, y_train)\n",
    "    \n",
    "    # Predict and evaluate\n",
    "    predictions = rf.predict(X_test)\n",
    "    accuracy = accuracy_score(y_test, predictions)\n",
    "    \n",
    "    # Log parameters, metrics, and model\n",
    "    mlflow.log_param(\"n_estimators\", 100)\n",
    "    mlflow.log_param(\"max_depth\", 3)\n",
    "    mlflow.log_metric(\"accuracy\", accuracy)\n",
    "    mlflow.sklearn.log_model(rf, \"model\")\n",
    "\n",
    "    print(f\"Run ID: {mlflow.active_run().info.run_id}\")\n"
   ]
  },
  {
   "cell_type": "code",
   "execution_count": 7,
   "id": "b956bdf1",
   "metadata": {},
   "outputs": [
    {
     "name": "stderr",
     "output_type": "stream",
     "text": [
      "2024/08/05 22:44:54 WARNING mlflow.models.model: Input example should be provided to infer model signature if the model signature is not provided when logging the model.\n"
     ]
    },
    {
     "name": "stdout",
     "output_type": "stream",
     "text": [
      "Run ID: 65fb702347e142d2a502f458e13d1c6f\n"
     ]
    }
   ],
   "source": [
    "with mlflow.start_run():\n",
    "    rf = RandomForestClassifier(n_estimators=100, max_depth=5, random_state=42)\n",
    "    rf.fit(X_train, y_train)\n",
    "    \n",
    "    # Predict and evaluate\n",
    "    predictions = rf.predict(X_test)\n",
    "    accuracy = accuracy_score(y_test, predictions)\n",
    "    \n",
    "    # Log parameters, metrics, and model\n",
    "    mlflow.log_param(\"n_estimators\", 100)\n",
    "    mlflow.log_param(\"max_depth\", 5)\n",
    "    mlflow.log_metric(\"accuracy\", accuracy)\n",
    "    mlflow.sklearn.log_model(rf, \"model\")\n",
    "\n",
    "    print(f\"Run ID: {mlflow.active_run().info.run_id}\")\n"
   ]
  },
  {
   "cell_type": "code",
   "execution_count": 8,
   "id": "ff8e67dc",
   "metadata": {},
   "outputs": [
    {
     "name": "stderr",
     "output_type": "stream",
     "text": [
      "2024/08/05 22:45:00 WARNING mlflow.models.model: Input example should be provided to infer model signature if the model signature is not provided when logging the model.\n"
     ]
    },
    {
     "name": "stdout",
     "output_type": "stream",
     "text": [
      "Run ID: 11ba4c56347f43d6b1d698342e714587\n"
     ]
    }
   ],
   "source": [
    "with mlflow.start_run():\n",
    "    rf = RandomForestClassifier(n_estimators=150, max_depth=7, random_state=42)\n",
    "    rf.fit(X_train, y_train)\n",
    "    \n",
    "    # Predict and evaluate\n",
    "    predictions = rf.predict(X_test)\n",
    "    accuracy = accuracy_score(y_test, predictions)\n",
    "    \n",
    "    # Log parameters, metrics, and model\n",
    "    mlflow.log_param(\"n_estimators\", 150)\n",
    "    mlflow.log_param(\"max_depth\", 7)\n",
    "    mlflow.log_metric(\"accuracy\", accuracy)\n",
    "    mlflow.sklearn.log_model(rf, \"model\")\n",
    "\n",
    "    print(f\"Run ID: {mlflow.active_run().info.run_id}\")\n"
   ]
  },
  {
   "cell_type": "code",
   "execution_count": 9,
   "id": "26fe9a8e",
   "metadata": {},
   "outputs": [
    {
     "name": "stderr",
     "output_type": "stream",
     "text": [
      "2024/08/05 22:45:06 WARNING mlflow.models.model: Input example should be provided to infer model signature if the model signature is not provided when logging the model.\n"
     ]
    },
    {
     "name": "stdout",
     "output_type": "stream",
     "text": [
      "Run ID: 21a14de172ee45e38932eb206010e864\n"
     ]
    },
    {
     "name": "stderr",
     "output_type": "stream",
     "text": [
      "2024/08/05 22:45:10 WARNING mlflow.models.model: Input example should be provided to infer model signature if the model signature is not provided when logging the model.\n"
     ]
    },
    {
     "name": "stdout",
     "output_type": "stream",
     "text": [
      "Run ID: 0128e6b49afb403c953bae592caa2cb4\n"
     ]
    },
    {
     "name": "stderr",
     "output_type": "stream",
     "text": [
      "2024/08/05 22:45:14 WARNING mlflow.models.model: Input example should be provided to infer model signature if the model signature is not provided when logging the model.\n"
     ]
    },
    {
     "name": "stdout",
     "output_type": "stream",
     "text": [
      "Run ID: c2cff3c8c74a472ab8936f720cf3e940\n"
     ]
    }
   ],
   "source": [
    "import pandas as pd\n",
    "from sklearn.ensemble import RandomForestClassifier\n",
    "from sklearn.metrics import accuracy_score\n",
    "from sklearn.model_selection import train_test_split\n",
    "from sklearn.datasets import load_iris\n",
    "import mlflow\n",
    "import mlflow.sklearn\n",
    "\n",
    "# Set the MLflow tracking URI\n",
    "mlflow.set_tracking_uri(\"/mlruns\")  # Change to your desired path\n",
    "\n",
    "# Define your experiment\n",
    "experiment_name = \"Iris_Classification_Experiment\"\n",
    "mlflow.set_experiment(experiment_name)\n",
    "\n",
    "# Load Iris dataset\n",
    "iris = load_iris()\n",
    "X = pd.DataFrame(iris.data, columns=iris.feature_names)\n",
    "y = pd.Series(iris.target)\n",
    "\n",
    "# Split data\n",
    "X_train, X_test, y_train, y_test = train_test_split(X, y, test_size=0.2, random_state=42)\n",
    "\n",
    "# Define different parameter sets\n",
    "params_list = [\n",
    "    {\"n_estimators\": 50, \"max_depth\": 3},\n",
    "    {\"n_estimators\": 100, \"max_depth\": 5},\n",
    "    {\"n_estimators\": 150, \"max_depth\": 7}\n",
    "]\n",
    "\n",
    "for params in params_list:\n",
    "    with mlflow.start_run():\n",
    "        rf = RandomForestClassifier(n_estimators=params[\"n_estimators\"], max_depth=params[\"max_depth\"], random_state=42)\n",
    "        rf.fit(X_train, y_train)\n",
    "        \n",
    "        # Predict and evaluate\n",
    "        predictions = rf.predict(X_test)\n",
    "        accuracy = accuracy_score(y_test, predictions)\n",
    "        \n",
    "        # Log parameters, metrics, and model\n",
    "        mlflow.log_param(\"n_estimators\", params[\"n_estimators\"])\n",
    "        mlflow.log_param(\"max_depth\", params[\"max_depth\"])\n",
    "        mlflow.log_metric(\"accuracy\", accuracy)\n",
    "        mlflow.sklearn.log_model(rf, \"model\")\n",
    "\n",
    "        print(f\"Run ID: {mlflow.active_run().info.run_id}\")\n"
   ]
  },
  {
   "cell_type": "code",
   "execution_count": 10,
   "id": "6e8f6692",
   "metadata": {},
   "outputs": [
    {
     "data": {
      "text/plain": [
       "<Popen: returncode: None args: ['mlflow', 'ui']>"
      ]
     },
     "execution_count": 10,
     "metadata": {},
     "output_type": "execute_result"
    }
   ],
   "source": [
    "import subprocess\n",
    "\n",
    "# Start MLflow UI in the background\n",
    "subprocess.Popen([\"mlflow\", \"ui\"])\n"
   ]
  },
  {
   "cell_type": "code",
   "execution_count": 11,
   "id": "8f36e5a4",
   "metadata": {},
   "outputs": [
    {
     "name": "stdout",
     "output_type": "stream",
     "text": [
      "Run ID: c2cff3c8c74a472ab8936f720cf3e940\n",
      "Parameters: {'max_depth': '7', 'n_estimators': '150'}\n",
      "Metrics: {'accuracy': 1.0}\n",
      "--------------------------------------------------------------------------------\n",
      "Run ID: 0128e6b49afb403c953bae592caa2cb4\n",
      "Parameters: {'max_depth': '5', 'n_estimators': '100'}\n",
      "Metrics: {'accuracy': 1.0}\n",
      "--------------------------------------------------------------------------------\n",
      "Run ID: 21a14de172ee45e38932eb206010e864\n",
      "Parameters: {'max_depth': '3', 'n_estimators': '50'}\n",
      "Metrics: {'accuracy': 1.0}\n",
      "--------------------------------------------------------------------------------\n",
      "Run ID: 11ba4c56347f43d6b1d698342e714587\n",
      "Parameters: {'max_depth': '7', 'n_estimators': '150'}\n",
      "Metrics: {'accuracy': 1.0}\n",
      "--------------------------------------------------------------------------------\n",
      "Run ID: 65fb702347e142d2a502f458e13d1c6f\n",
      "Parameters: {'max_depth': '5', 'n_estimators': '100'}\n",
      "Metrics: {'accuracy': 1.0}\n",
      "--------------------------------------------------------------------------------\n",
      "Run ID: 5a84ed2ed2f048c0a1357971a3f7ea3e\n",
      "Parameters: {'max_depth': '3', 'n_estimators': '100'}\n",
      "Metrics: {'accuracy': 1.0}\n",
      "--------------------------------------------------------------------------------\n",
      "Run ID: 00411f83fadb4e94b3eb41c5903b8cde\n",
      "Parameters: {'max_depth': '7', 'n_estimators': '150'}\n",
      "Metrics: {'accuracy': 1.0}\n",
      "--------------------------------------------------------------------------------\n",
      "Run ID: 87bb93efec844b4f86a09c70c05f6b38\n",
      "Parameters: {'max_depth': '5', 'n_estimators': '100'}\n",
      "Metrics: {'accuracy': 1.0}\n",
      "--------------------------------------------------------------------------------\n",
      "Run ID: d8cd36ec11144337a539c27aeca26933\n",
      "Parameters: {'max_depth': '3', 'n_estimators': '50'}\n",
      "Metrics: {'accuracy': 1.0}\n",
      "--------------------------------------------------------------------------------\n",
      "Run ID: ec210ba4db9f47f5a28728d43c684ca1\n",
      "Parameters: {'max_depth': '7', 'n_estimators': '150'}\n",
      "Metrics: {'accuracy': 1.0}\n",
      "--------------------------------------------------------------------------------\n",
      "Run ID: e23bf78a5dbd4540a7fb712b425f5b3c\n",
      "Parameters: {'max_depth': '5', 'n_estimators': '100'}\n",
      "Metrics: {'accuracy': 1.0}\n",
      "--------------------------------------------------------------------------------\n",
      "Run ID: c7ac6238f0fe43b9932c2e8b7cdbb5ce\n",
      "Parameters: {'max_depth': '3', 'n_estimators': '50'}\n",
      "Metrics: {'accuracy': 1.0}\n",
      "--------------------------------------------------------------------------------\n",
      "Run ID: 4932fb0bc17846cf8f02d23603cff4b3\n",
      "Parameters: {'max_depth': '7', 'n_estimators': '150'}\n",
      "Metrics: {'accuracy': 1.0}\n",
      "--------------------------------------------------------------------------------\n",
      "Run ID: 6ddf127705ae4d8cba73eb275f06d102\n",
      "Parameters: {'max_depth': '5', 'n_estimators': '100'}\n",
      "Metrics: {'accuracy': 1.0}\n",
      "--------------------------------------------------------------------------------\n",
      "Run ID: 33818d99b1014138816044c45c0fc018\n",
      "Parameters: {'max_depth': '3', 'n_estimators': '100'}\n",
      "Metrics: {'accuracy': 1.0}\n",
      "--------------------------------------------------------------------------------\n",
      "Run ID: fa3b56a547814062ad0f60aa0a5e9230\n",
      "Parameters: {'max_depth': '3', 'n_estimators': '100'}\n",
      "Metrics: {'accuracy': 1.0}\n",
      "--------------------------------------------------------------------------------\n"
     ]
    }
   ],
   "source": [
    "from mlflow.tracking import MlflowClient\n",
    "\n",
    "client = MlflowClient()\n",
    "experiment = client.get_experiment_by_name(experiment_name)\n",
    "runs = client.search_runs(experiment_ids=[experiment.experiment_id])\n",
    "\n",
    "for run in runs:\n",
    "    print(f\"Run ID: {run.info.run_id}\")\n",
    "    print(f\"Parameters: {run.data.params}\")\n",
    "    print(f\"Metrics: {run.data.metrics}\")\n",
    "    print(\"-\" * 80)\n"
   ]
  },
  {
   "cell_type": "markdown",
   "id": "9e50d988",
   "metadata": {},
   "source": [
    "# Part 2: Data Versioning with DVC"
   ]
  },
  {
   "cell_type": "markdown",
   "id": "47c5c379",
   "metadata": {},
   "source": [
    "Step 1: Install and Initialize DVC"
   ]
  },
  {
   "cell_type": "code",
   "execution_count": 16,
   "id": "5240d331",
   "metadata": {
    "scrolled": false
   },
   "outputs": [
    {
     "name": "stdout",
     "output_type": "stream",
     "text": [
      "Requirement already satisfied: dvc in c:\\users\\user\\anaconda3\\lib\\site-packages (3.53.0)\n",
      "Requirement already satisfied: attrs>=22.2.0 in c:\\users\\user\\anaconda3\\lib\\site-packages (from dvc) (24.1.0)\n",
      "Requirement already satisfied: celery in c:\\users\\user\\anaconda3\\lib\\site-packages (from dvc) (5.4.0)\n",
      "Requirement already satisfied: colorama>=0.3.9 in c:\\users\\user\\anaconda3\\lib\\site-packages (from dvc) (0.4.6)\n",
      "Requirement already satisfied: configobj>=5.0.6 in c:\\users\\user\\anaconda3\\lib\\site-packages (from dvc) (5.0.8)\n",
      "Requirement already satisfied: distro>=1.3 in c:\\users\\user\\anaconda3\\lib\\site-packages (from dvc) (1.8.0)\n",
      "Requirement already satisfied: dpath<3,>=2.1.0 in c:\\users\\user\\anaconda3\\lib\\site-packages (from dvc) (2.2.0)\n",
      "Requirement already satisfied: dulwich in c:\\users\\user\\anaconda3\\lib\\site-packages (from dvc) (0.22.1)\n",
      "Requirement already satisfied: dvc-data<3.16,>=3.15 in c:\\users\\user\\anaconda3\\lib\\site-packages (from dvc) (3.15.1)\n",
      "Requirement already satisfied: dvc-http>=2.29.0 in c:\\users\\user\\anaconda3\\lib\\site-packages (from dvc) (2.32.0)\n",
      "Requirement already satisfied: dvc-objects in c:\\users\\user\\anaconda3\\lib\\site-packages (from dvc) (5.1.0)\n",
      "Requirement already satisfied: dvc-render<2,>=1.0.1 in c:\\users\\user\\anaconda3\\lib\\site-packages (from dvc) (1.0.2)\n",
      "Requirement already satisfied: dvc-studio-client<1,>=0.21 in c:\\users\\user\\anaconda3\\lib\\site-packages (from dvc) (0.21.0)\n",
      "Requirement already satisfied: dvc-task<1,>=0.3.0 in c:\\users\\user\\anaconda3\\lib\\site-packages (from dvc) (0.4.0)\n",
      "Requirement already satisfied: flatten-dict<1,>=0.4.1 in c:\\users\\user\\anaconda3\\lib\\site-packages (from dvc) (0.4.2)\n",
      "Requirement already satisfied: flufl.lock<9,>=8.1.0 in c:\\users\\user\\anaconda3\\lib\\site-packages (from dvc) (8.1.0)\n",
      "Requirement already satisfied: fsspec>=2024.2.0 in c:\\users\\user\\anaconda3\\lib\\site-packages (from dvc) (2024.6.1)\n",
      "Requirement already satisfied: funcy>=1.14 in c:\\users\\user\\anaconda3\\lib\\site-packages (from dvc) (2.0)\n",
      "Requirement already satisfied: grandalf<1,>=0.7 in c:\\users\\user\\anaconda3\\lib\\site-packages (from dvc) (0.8)\n",
      "Requirement already satisfied: gto<2,>=1.6.0 in c:\\users\\user\\anaconda3\\lib\\site-packages (from dvc) (1.7.1)\n",
      "Requirement already satisfied: hydra-core>=1.1 in c:\\users\\user\\anaconda3\\lib\\site-packages (from dvc) (1.3.2)\n",
      "Requirement already satisfied: iterative-telemetry>=0.0.7 in c:\\users\\user\\anaconda3\\lib\\site-packages (from dvc) (0.0.8)\n",
      "Requirement already satisfied: kombu in c:\\users\\user\\anaconda3\\lib\\site-packages (from dvc) (5.3.7)\n",
      "Requirement already satisfied: networkx>=2.5 in c:\\users\\user\\anaconda3\\lib\\site-packages (from dvc) (3.1)\n",
      "Requirement already satisfied: omegaconf in c:\\users\\user\\anaconda3\\lib\\site-packages (from dvc) (2.3.0)\n",
      "Requirement already satisfied: packaging>=19 in c:\\users\\user\\anaconda3\\lib\\site-packages (from dvc) (23.0)\n",
      "Requirement already satisfied: pathspec>=0.10.3 in c:\\users\\user\\anaconda3\\lib\\site-packages (from dvc) (0.10.3)\n",
      "Requirement already satisfied: platformdirs<4,>=3.1.1 in c:\\users\\user\\anaconda3\\lib\\site-packages (from dvc) (3.11.0)\n",
      "Requirement already satisfied: psutil>=5.8 in c:\\users\\user\\anaconda3\\lib\\site-packages (from dvc) (5.9.0)\n",
      "Requirement already satisfied: pydot>=1.2.4 in c:\\users\\user\\anaconda3\\lib\\site-packages (from dvc) (3.0.1)\n",
      "Requirement already satisfied: pygtrie>=2.3.2 in c:\\users\\user\\anaconda3\\lib\\site-packages (from dvc) (2.5.0)\n",
      "Requirement already satisfied: pyparsing>=2.4.7 in c:\\users\\user\\anaconda3\\lib\\site-packages (from dvc) (3.0.9)\n",
      "Requirement already satisfied: requests>=2.22 in c:\\users\\user\\anaconda3\\lib\\site-packages (from dvc) (2.31.0)\n",
      "Requirement already satisfied: rich>=12 in c:\\users\\user\\anaconda3\\lib\\site-packages (from dvc) (13.7.1)\n",
      "Requirement already satisfied: ruamel.yaml>=0.17.11 in c:\\users\\user\\anaconda3\\lib\\site-packages (from dvc) (0.17.21)\n",
      "Requirement already satisfied: scmrepo<4,>=3.3.4 in c:\\users\\user\\anaconda3\\lib\\site-packages (from dvc) (3.3.7)\n",
      "Requirement already satisfied: shortuuid>=0.5 in c:\\users\\user\\anaconda3\\lib\\site-packages (from dvc) (1.0.13)\n",
      "Requirement already satisfied: shtab<2,>=1.3.4 in c:\\users\\user\\anaconda3\\lib\\site-packages (from dvc) (1.7.1)\n",
      "Requirement already satisfied: tabulate>=0.8.7 in c:\\users\\user\\anaconda3\\lib\\site-packages (from dvc) (0.8.10)\n",
      "Requirement already satisfied: tomlkit>=0.11.1 in c:\\users\\user\\anaconda3\\lib\\site-packages (from dvc) (0.11.1)\n",
      "Requirement already satisfied: tqdm<5,>=4.63.1 in c:\\users\\user\\anaconda3\\lib\\site-packages (from dvc) (4.65.0)\n",
      "Requirement already satisfied: voluptuous>=0.11.7 in c:\\users\\user\\anaconda3\\lib\\site-packages (from dvc) (0.15.2)\n",
      "Requirement already satisfied: zc.lockfile>=1.2.1 in c:\\users\\user\\anaconda3\\lib\\site-packages (from dvc) (3.0.post1)\n",
      "Requirement already satisfied: six in c:\\users\\user\\anaconda3\\lib\\site-packages (from configobj>=5.0.6->dvc) (1.16.0)\n",
      "Requirement already satisfied: dictdiffer>=0.8.1 in c:\\users\\user\\anaconda3\\lib\\site-packages (from dvc-data<3.16,>=3.15->dvc) (0.9.0)\n",
      "Requirement already satisfied: diskcache>=5.2.1 in c:\\users\\user\\anaconda3\\lib\\site-packages (from dvc-data<3.16,>=3.15->dvc) (5.6.3)\n",
      "Requirement already satisfied: sqltrie<1,>=0.11.0 in c:\\users\\user\\anaconda3\\lib\\site-packages (from dvc-data<3.16,>=3.15->dvc) (0.11.1)\n",
      "Requirement already satisfied: aiohttp-retry>=2.5.0 in c:\\users\\user\\anaconda3\\lib\\site-packages (from dvc-http>=2.29.0->dvc) (2.8.3)\n",
      "Requirement already satisfied: pywin32>=225 in c:\\users\\user\\anaconda3\\lib\\site-packages (from dvc-task<1,>=0.3.0->dvc) (305.1)\n",
      "Requirement already satisfied: billiard<5.0,>=4.2.0 in c:\\users\\user\\anaconda3\\lib\\site-packages (from celery->dvc) (4.2.0)\n",
      "Requirement already satisfied: vine<6.0,>=5.1.0 in c:\\users\\user\\anaconda3\\lib\\site-packages (from celery->dvc) (5.1.0)\n",
      "Requirement already satisfied: click<9.0,>=8.1.2 in c:\\users\\user\\anaconda3\\lib\\site-packages (from celery->dvc) (8.1.7)\n",
      "Requirement already satisfied: click-didyoumean>=0.3.0 in c:\\users\\user\\anaconda3\\lib\\site-packages (from celery->dvc) (0.3.1)\n",
      "Requirement already satisfied: click-repl>=0.2.0 in c:\\users\\user\\anaconda3\\lib\\site-packages (from celery->dvc) (0.3.0)\n",
      "Requirement already satisfied: click-plugins>=1.1.1 in c:\\users\\user\\anaconda3\\lib\\site-packages (from celery->dvc) (1.1.1)\n",
      "Requirement already satisfied: tzdata>=2022.7 in c:\\users\\user\\anaconda3\\lib\\site-packages (from celery->dvc) (2024.1)\n",
      "Requirement already satisfied: python-dateutil>=2.8.2 in c:\\users\\user\\anaconda3\\lib\\site-packages (from celery->dvc) (2.8.2)\n",
      "Requirement already satisfied: atpublic in c:\\users\\user\\anaconda3\\lib\\site-packages (from flufl.lock<9,>=8.1.0->dvc) (5.0)\n",
      "Requirement already satisfied: typer>=0.4.1 in c:\\users\\user\\anaconda3\\lib\\site-packages (from gto<2,>=1.6.0->dvc) (0.12.3)\n",
      "Requirement already satisfied: pydantic!=2.0.0,<3,>=1.9.0 in c:\\users\\user\\anaconda3\\lib\\site-packages (from gto<2,>=1.6.0->dvc) (2.5.2)\n",
      "Requirement already satisfied: semver>=2.13.0 in c:\\users\\user\\anaconda3\\lib\\site-packages (from gto<2,>=1.6.0->dvc) (3.0.2)\n",
      "Requirement already satisfied: entrypoints in c:\\users\\user\\anaconda3\\lib\\site-packages (from gto<2,>=1.6.0->dvc) (0.4)\n",
      "Requirement already satisfied: antlr4-python3-runtime==4.9.* in c:\\users\\user\\anaconda3\\lib\\site-packages (from hydra-core>=1.1->dvc) (4.9.3)\n",
      "Requirement already satisfied: appdirs in c:\\users\\user\\anaconda3\\lib\\site-packages (from iterative-telemetry>=0.0.7->dvc) (1.4.4)\n",
      "Requirement already satisfied: filelock in c:\\users\\user\\anaconda3\\lib\\site-packages (from iterative-telemetry>=0.0.7->dvc) (3.9.0)\n",
      "Requirement already satisfied: amqp<6.0.0,>=5.1.1 in c:\\users\\user\\anaconda3\\lib\\site-packages (from kombu->dvc) (5.2.0)\n",
      "Requirement already satisfied: PyYAML>=5.1.0 in c:\\users\\user\\anaconda3\\lib\\site-packages (from omegaconf->dvc) (6.0)\n",
      "Requirement already satisfied: charset-normalizer<4,>=2 in c:\\users\\user\\anaconda3\\lib\\site-packages (from requests>=2.22->dvc) (2.0.4)\n",
      "Requirement already satisfied: idna<4,>=2.5 in c:\\users\\user\\anaconda3\\lib\\site-packages (from requests>=2.22->dvc) (3.4)\n",
      "Requirement already satisfied: urllib3<3,>=1.21.1 in c:\\users\\user\\anaconda3\\lib\\site-packages (from requests>=2.22->dvc) (1.26.16)\n",
      "Requirement already satisfied: certifi>=2017.4.17 in c:\\users\\user\\anaconda3\\lib\\site-packages (from requests>=2.22->dvc) (2023.7.22)\n",
      "Requirement already satisfied: markdown-it-py>=2.2.0 in c:\\users\\user\\anaconda3\\lib\\site-packages (from rich>=12->dvc) (2.2.0)\n",
      "Requirement already satisfied: pygments<3.0.0,>=2.13.0 in c:\\users\\user\\anaconda3\\lib\\site-packages (from rich>=12->dvc) (2.15.1)\n",
      "Requirement already satisfied: gitpython>3 in c:\\users\\user\\anaconda3\\lib\\site-packages (from scmrepo<4,>=3.3.4->dvc) (3.1.43)\n",
      "Requirement already satisfied: pygit2>=1.14.0 in c:\\users\\user\\anaconda3\\lib\\site-packages (from scmrepo<4,>=3.3.4->dvc) (1.15.1)\n",
      "Requirement already satisfied: asyncssh<3,>=2.13.1 in c:\\users\\user\\anaconda3\\lib\\site-packages (from scmrepo<4,>=3.3.4->dvc) (2.15.0)\n",
      "Requirement already satisfied: setuptools in c:\\users\\user\\anaconda3\\lib\\site-packages (from zc.lockfile>=1.2.1->dvc) (68.0.0)\n",
      "Requirement already satisfied: aiohttp in c:\\users\\user\\anaconda3\\lib\\site-packages (from aiohttp-retry>=2.5.0->dvc-http>=2.29.0->dvc) (3.8.3)\n",
      "Requirement already satisfied: cryptography>=39.0 in c:\\users\\user\\anaconda3\\lib\\site-packages (from asyncssh<3,>=2.13.1->scmrepo<4,>=3.3.4->dvc) (41.0.2)\n",
      "Requirement already satisfied: typing-extensions>=4.0.0 in c:\\users\\user\\anaconda3\\lib\\site-packages (from asyncssh<3,>=2.13.1->scmrepo<4,>=3.3.4->dvc) (4.12.2)\n",
      "Requirement already satisfied: prompt-toolkit>=3.0.36 in c:\\users\\user\\anaconda3\\lib\\site-packages (from click-repl>=0.2.0->celery->dvc) (3.0.36)\n",
      "Requirement already satisfied: gitdb<5,>=4.0.1 in c:\\users\\user\\anaconda3\\lib\\site-packages (from gitpython>3->scmrepo<4,>=3.3.4->dvc) (4.0.11)\n",
      "Requirement already satisfied: mdurl~=0.1 in c:\\users\\user\\anaconda3\\lib\\site-packages (from markdown-it-py>=2.2.0->rich>=12->dvc) (0.1.0)\n",
      "Requirement already satisfied: annotated-types>=0.4.0 in c:\\users\\user\\anaconda3\\lib\\site-packages (from pydantic!=2.0.0,<3,>=1.9.0->gto<2,>=1.6.0->dvc) (0.6.0)\n",
      "Requirement already satisfied: pydantic-core==2.14.5 in c:\\users\\user\\anaconda3\\lib\\site-packages (from pydantic!=2.0.0,<3,>=1.9.0->gto<2,>=1.6.0->dvc) (2.14.5)\n",
      "Requirement already satisfied: cffi>=1.16.0 in c:\\users\\user\\anaconda3\\lib\\site-packages (from pygit2>=1.14.0->scmrepo<4,>=3.3.4->dvc) (1.16.0)\n",
      "Requirement already satisfied: orjson in c:\\users\\user\\anaconda3\\lib\\site-packages (from sqltrie<1,>=0.11.0->dvc-data<3.16,>=3.15->dvc) (3.10.5)\n",
      "Requirement already satisfied: shellingham>=1.3.0 in c:\\users\\user\\anaconda3\\lib\\site-packages (from typer>=0.4.1->gto<2,>=1.6.0->dvc) (1.5.4)\n",
      "Requirement already satisfied: multidict<7.0,>=4.5 in c:\\users\\user\\anaconda3\\lib\\site-packages (from aiohttp->aiohttp-retry>=2.5.0->dvc-http>=2.29.0->dvc) (6.0.2)\n",
      "Requirement already satisfied: async-timeout<5.0,>=4.0.0a3 in c:\\users\\user\\anaconda3\\lib\\site-packages (from aiohttp->aiohttp-retry>=2.5.0->dvc-http>=2.29.0->dvc) (4.0.2)\n",
      "Requirement already satisfied: yarl<2.0,>=1.0 in c:\\users\\user\\anaconda3\\lib\\site-packages (from aiohttp->aiohttp-retry>=2.5.0->dvc-http>=2.29.0->dvc) (1.8.1)\n",
      "Requirement already satisfied: frozenlist>=1.1.1 in c:\\users\\user\\anaconda3\\lib\\site-packages (from aiohttp->aiohttp-retry>=2.5.0->dvc-http>=2.29.0->dvc) (1.3.3)\n",
      "Requirement already satisfied: aiosignal>=1.1.2 in c:\\users\\user\\anaconda3\\lib\\site-packages (from aiohttp->aiohttp-retry>=2.5.0->dvc-http>=2.29.0->dvc) (1.2.0)\n",
      "Requirement already satisfied: pycparser in c:\\users\\user\\anaconda3\\lib\\site-packages (from cffi>=1.16.0->pygit2>=1.14.0->scmrepo<4,>=3.3.4->dvc) (2.21)\n",
      "Requirement already satisfied: smmap<6,>=3.0.1 in c:\\users\\user\\anaconda3\\lib\\site-packages (from gitdb<5,>=4.0.1->gitpython>3->scmrepo<4,>=3.3.4->dvc) (5.0.1)\n",
      "Requirement already satisfied: wcwidth in c:\\users\\user\\anaconda3\\lib\\site-packages (from prompt-toolkit>=3.0.36->click-repl>=0.2.0->celery->dvc) (0.2.5)\n"
     ]
    }
   ],
   "source": [
    "!pip install dvc\n"
   ]
  },
  {
   "cell_type": "code",
   "execution_count": 17,
   "id": "f637d003",
   "metadata": {},
   "outputs": [
    {
     "name": "stdout",
     "output_type": "stream",
     "text": [
      "Reinitialized existing Git repository in C:/Users/user/.git/\n",
      "Initialized DVC repository.\n",
      "\n",
      "You can now commit the changes to git.\n",
      "\n",
      "+---------------------------------------------------------------------+\n",
      "|                                                                     |\n",
      "|        DVC has enabled anonymous aggregate usage analytics.         |\n",
      "|     Read the analytics documentation (and how to opt-out) here:     |\n",
      "|             <https://dvc.org/doc/user-guide/analytics>              |\n",
      "|                                                                     |\n",
      "+---------------------------------------------------------------------+\n",
      "\n",
      "What's next?\n",
      "------------\n",
      "- Check out the documentation: <https://dvc.org/doc>\n",
      "- Get help and share ideas: <https://dvc.org/chat>\n",
      "- Star us on GitHub: <https://github.com/iterative/dvc>\n"
     ]
    }
   ],
   "source": [
    "!git init\n",
    "!dvc init\n"
   ]
  },
  {
   "cell_type": "markdown",
   "id": "79751abd",
   "metadata": {},
   "source": [
    "Step 2: Version Control the Dataset"
   ]
  },
  {
   "cell_type": "code",
   "execution_count": 18,
   "id": "15356b0d",
   "metadata": {},
   "outputs": [],
   "source": [
    "from sklearn.datasets import load_iris\n",
    "import pandas as pd\n",
    "import os\n",
    "\n",
    "iris = load_iris()\n",
    "df = pd.DataFrame(iris.data, columns=iris.feature_names)\n",
    "df['target'] = iris.target\n",
    "\n",
    "os.makedirs('data', exist_ok=True)\n",
    "df.to_csv('data/iris_dataset.csv', index=False)\n"
   ]
  },
  {
   "cell_type": "code",
   "execution_count": 19,
   "id": "691ad513",
   "metadata": {},
   "outputs": [
    {
     "name": "stdout",
     "output_type": "stream",
     "text": [
      "\n",
      "To track the changes with git, run:\n",
      "\n",
      "\tgit add 'data\\iris_dataset.csv.dvc' 'data\\.gitignore'\n",
      "\n",
      "To enable auto staging, run:\n",
      "\n",
      "\tdvc config core.autostage true\n"
     ]
    },
    {
     "name": "stderr",
     "output_type": "stream",
     "text": [
      "\\u280b Checking graph\n",
      "\n",
      "fatal: pathspec '.gitignore' did not match any files\n"
     ]
    },
    {
     "name": "stdout",
     "output_type": "stream",
     "text": [
      "[master (root-commit) e748fea] Add Iris dataset\n",
      " 3 files changed, 6 insertions(+)\n",
      " create mode 100644 .dvc/.gitignore\n",
      " create mode 100644 .dvc/config\n",
      " create mode 100644 .dvcignore\n"
     ]
    }
   ],
   "source": [
    "!dvc add data/iris_dataset.csv\n",
    "!git add data/iris_dataset.csv.dvc .gitignore\n",
    "!git commit -m \"Add Iris dataset\"\n"
   ]
  },
  {
   "cell_type": "markdown",
   "id": "4eedb904",
   "metadata": {},
   "source": [
    "Step 3: Simulate and Track Changes\n"
   ]
  },
  {
   "cell_type": "code",
   "execution_count": 20,
   "id": "563f4eb6",
   "metadata": {},
   "outputs": [],
   "source": [
    "df['target'] = df['target'].apply(lambda x: x + 1)\n",
    "df.to_csv('data/iris_dataset_v2.csv', index=False)\n"
   ]
  },
  {
   "cell_type": "code",
   "execution_count": 21,
   "id": "d84728f5",
   "metadata": {},
   "outputs": [
    {
     "name": "stdout",
     "output_type": "stream",
     "text": [
      "\n",
      "To track the changes with git, run:\n",
      "\n",
      "\tgit add 'data\\.gitignore' 'data\\iris_dataset_v2.csv.dvc'\n",
      "\n",
      "To enable auto staging, run:\n",
      "\n",
      "\tdvc config core.autostage true\n"
     ]
    },
    {
     "name": "stderr",
     "output_type": "stream",
     "text": [
      "\\u280b Checking graph\n",
      "\n"
     ]
    },
    {
     "name": "stdout",
     "output_type": "stream",
     "text": [
      "[master 43dd90a] Add updated Iris dataset\n",
      " 1 file changed, 5 insertions(+)\n",
      " create mode 100644 data/iris_dataset_v2.csv.dvc\n"
     ]
    }
   ],
   "source": [
    "!dvc add data/iris_dataset_v2.csv\n",
    "!git add data/iris_dataset_v2.csv.dvc\n",
    "!git commit -m \"Add updated Iris dataset\"\n"
   ]
  },
  {
   "cell_type": "markdown",
   "id": "4a412800",
   "metadata": {},
   "source": [
    "Step 4: Revert to a Previous Version"
   ]
  },
  {
   "cell_type": "code",
   "execution_count": 22,
   "id": "c9f5b1b5",
   "metadata": {},
   "outputs": [],
   "source": [
    "!dvc checkout\n"
   ]
  },
  {
   "cell_type": "code",
   "execution_count": 23,
   "id": "decff67b",
   "metadata": {},
   "outputs": [
    {
     "name": "stdout",
     "output_type": "stream",
     "text": [
      "Data and pipelines are up to date.\n"
     ]
    }
   ],
   "source": [
    "!dvc status\n"
   ]
  }
 ],
 "metadata": {
  "kernelspec": {
   "display_name": "Python 3 (ipykernel)",
   "language": "python",
   "name": "python3"
  },
  "language_info": {
   "codemirror_mode": {
    "name": "ipython",
    "version": 3
   },
   "file_extension": ".py",
   "mimetype": "text/x-python",
   "name": "python",
   "nbconvert_exporter": "python",
   "pygments_lexer": "ipython3",
   "version": "3.11.4"
  }
 },
 "nbformat": 4,
 "nbformat_minor": 5
}
